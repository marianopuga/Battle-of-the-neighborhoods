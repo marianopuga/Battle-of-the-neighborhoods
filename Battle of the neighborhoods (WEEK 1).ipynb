{
    "cells": [
        {
            "cell_type": "markdown",
            "metadata": {
                "collapsed": true
            },
            "source": "# Coursera Capstone Project \n## The Battle of Neighborhoods (Week 1)\n### Mariano Puga - Part 1 : Introduction and Data Sections"
        },
        {
            "cell_type": "markdown",
            "metadata": {},
            "source": "### We import the libraries"
        },
        {
            "cell_type": "code",
            "execution_count": 1,
            "metadata": {},
            "outputs": [
                {
                    "name": "stdout",
                    "output_type": "stream",
                    "text": "Requirement already satisfied: geopy in /opt/conda/envs/Python36/lib/python3.6/site-packages (1.18.1)\nRequirement already satisfied: geographiclib<2,>=1.49 in /opt/conda/envs/Python36/lib/python3.6/site-packages (from geopy) (1.49)\nSolving environment: done\n\n## Package Plan ##\n\n  environment location: /opt/conda/envs/Python36\n\n  added / updated specs: \n    - folium=0.5.0\n\n\nThe following packages will be downloaded:\n\n    package                    |            build\n    ---------------------------|-----------------\n    vincent-0.4.4              |             py_1          28 KB  conda-forge\n    ca-certificates-2020.6.20  |       hecda079_0         145 KB  conda-forge\n    certifi-2020.6.20          |   py36h9f0ad1d_0         151 KB  conda-forge\n    openssl-1.1.1g             |       h516909a_1         2.1 MB  conda-forge\n    branca-0.4.1               |             py_0          26 KB  conda-forge\n    python_abi-3.6             |          1_cp36m           4 KB  conda-forge\n    folium-0.5.0               |             py_0          45 KB  conda-forge\n    altair-4.1.0               |             py_1         614 KB  conda-forge\n    ------------------------------------------------------------\n                                           Total:         3.1 MB\n\nThe following NEW packages will be INSTALLED:\n\n    altair:          4.1.0-py_1        conda-forge\n    branca:          0.4.1-py_0        conda-forge\n    folium:          0.5.0-py_0        conda-forge\n    python_abi:      3.6-1_cp36m       conda-forge\n    vincent:         0.4.4-py_1        conda-forge\n\nThe following packages will be UPDATED:\n\n    certifi:         2020.6.20-py36_0              --> 2020.6.20-py36h9f0ad1d_0 conda-forge\n    openssl:         1.1.1g-h7b6447c_0             --> 1.1.1g-h516909a_1        conda-forge\n\nThe following packages will be DOWNGRADED:\n\n    ca-certificates: 2020.6.24-0                   --> 2020.6.20-hecda079_0     conda-forge\n\n\nDownloading and Extracting Packages\nvincent-0.4.4        | 28 KB     | ##################################### | 100% \nca-certificates-2020 | 145 KB    | ##################################### | 100% \ncertifi-2020.6.20    | 151 KB    | ##################################### | 100% \nopenssl-1.1.1g       | 2.1 MB    | ##################################### | 100% \nbranca-0.4.1         | 26 KB     | ##################################### | 100% \npython_abi-3.6       | 4 KB      | ##################################### | 100% \nfolium-0.5.0         | 45 KB     | ##################################### | 100% \naltair-4.1.0         | 614 KB    | ##################################### | 100% \nPreparing transaction: done\nVerifying transaction: done\nExecuting transaction: done\nLibraries imported.\n"
                }
            ],
            "source": "import pandas as pd\nimport numpy as np\nimport json\n\nimport requests\nfrom pandas.io.json import json_normalize\n\nimport matplotlib.cm as cm\nimport matplotlib.colors as colors\n\nfrom sklearn.cluster import KMeans\n\n!pip install geopy\nfrom geopy.geocoders import Nominatim\n\n!conda install -c conda-forge folium=0.5.0 --yes # uncomment this line if you haven't completed the Foursquare API lab\nimport folium # map rendering library\n\nprint('Libraries imported.')"
        },
        {
            "cell_type": "markdown",
            "metadata": {},
            "source": "## Coursera Capstone - REPORT CONTENT\n1. Introduction Section : \u2043 Discussion of the business problem and the interested audience in this project.\n2. Data Section:\n\u2043 Description of the data that will be used to solve the problem and the sources.\n3. Methodology section: \n\u2043 Discussion and description of exploratory data analysis carried out, any inferential statistical testing performed, and if any machine learnings were used establishing the strategy and purposes.\n4. Results section: \n\u2043 Discussion of the results.\n5. Discussion section: \n\u2043 Elaboration and discussion on any observations noted and any recommendations suggested based on the results.\n6. Conclusion section: \n\u2043 Report Conclusion."
        },
        {
            "cell_type": "markdown",
            "metadata": {},
            "source": "### A description of the problem and a discussion of the background. (15 marks)"
        },
        {
            "cell_type": "markdown",
            "metadata": {},
            "source": "\n# 1. Introduction Section :\n\n## Discussion of the business problem and the audience who would be interested in this project.\n### Description of the Problem and Background\n**Scenario:**\n\nI'm currently working in Santiago (Chile, a small country in south america for those who don't know), but I wanna work overseas to get a hold of deeper experiences and develop new abilities. Also, I'm a huge surfing fan so I'd love to combine a city big enough to study an MBA and also stay close to the ocean.   \nThe first place I thought of in order to do this was Dunedin, New Zealand. I want new experiences so I wont compare my current situation (venues I tend to go to for example) to my new prospects but I'd love to find a place with the following amenities:\n\n2-3 bedroom apartment in order to share it\nEasy access to the surf spots.\nDesirable to have venues such as coffee shops, Asian restaurants and gym's\nRent shouldn't be too high, let's say 1200/1500 USD.\n\nBusiness Problem:\nThe challenge is to find a suitable apartment for rent in Dunedin that complies with the demands on location, price and venues. The data required to resolve this challenge is described in the following section 2, below.\n\nInterested Audience\nI'm particulary interested in surfing so I guess this is oriented to those recent graduates that want to explore studying close to the ocean (Otago University has one of the most beatiful campus in the world and is perfect for surfing fans as it's close to some really nice waves!)"
        },
        {
            "cell_type": "markdown",
            "metadata": {},
            "source": "### A description of the data and how it will be used to solve the problem. (15 marks)"
        },
        {
            "cell_type": "markdown",
            "metadata": {},
            "source": "\n# 2. Data Section:\n\n## Description of the data and its sources that will be used to solve the problem\n\n### Description of the Data:\n\nThe following data is required to answer the issues of the problem:\n\n1. List of Boroughs and neighborhoods of Dunedin with their geodata (latitud and longitud).\n2. List of apartments for rent in Dunedin area with their addresses and price.\n3. Preferably, a list of apartment for rent with additional information, such as price, address, area, # of beds, etc.\n4. Venues for each Dunedin neighborhood.\n"
        },
        {
            "cell_type": "markdown",
            "metadata": {},
            "source": "## How the data will be used to solve the problem\n### The data will be used as follows:\n\n- Use Foursquare and geopy data to map top 10 venues for all Dunedin neighborhoods and clustered in groups \n- Use Foursquare and geopy data to map the location of rental places.\n- Create a map that depicts, for instance, the average rental price per square ft and compare that to my proximity to the eastern cost of Dunedin (closer to the ocean).\n- Addresses from rental locations will be converted to geodata( lat, long) using Geopy-distance and Nominatim.\n- Data will be searched in open data sources if available, from real estate sites if open to reading, libraries or other government agencies.\n\n### The procesing of these DATA will allow to answer the key questions to make a decision:\n\n- what is the cost of rent (per square ft)?\n- What is the area of Dunedin with best rental pricing that meets criteria established?\n- What is the distance from the ocean and the tentative future home?\n- How do the prices compare?\n- Can I have a really good coffee just before I go surfing?\n- Are there tradeoffs between size and price and location?\n- Any other interesting statistical data findings of the real estate and overall data.\n"
        },
        {
            "cell_type": "code",
            "execution_count": null,
            "metadata": {},
            "outputs": [],
            "source": ""
        },
        {
            "cell_type": "code",
            "execution_count": null,
            "metadata": {},
            "outputs": [],
            "source": ""
        },
        {
            "cell_type": "code",
            "execution_count": null,
            "metadata": {},
            "outputs": [],
            "source": ""
        }
    ],
    "metadata": {
        "kernelspec": {
            "display_name": "Python 3.6",
            "language": "python",
            "name": "python3"
        },
        "language_info": {
            "codemirror_mode": {
                "name": "ipython",
                "version": 3
            },
            "file_extension": ".py",
            "mimetype": "text/x-python",
            "name": "python",
            "nbconvert_exporter": "python",
            "pygments_lexer": "ipython3",
            "version": "3.6.9"
        }
    },
    "nbformat": 4,
    "nbformat_minor": 1
}